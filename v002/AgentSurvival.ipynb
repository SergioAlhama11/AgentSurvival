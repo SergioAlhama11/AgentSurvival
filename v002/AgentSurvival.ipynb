{
  "nbformat": 4,
  "nbformat_minor": 0,
  "metadata": {
    "colab": {
      "name": "AgentSurvival.ipynb",
      "provenance": [],
      "collapsed_sections": [],
      "authorship_tag": "ABX9TyNkS0LszFJeCz8So7CB/kvj",
      "include_colab_link": true
    },
    "kernelspec": {
      "name": "python3",
      "display_name": "Python 3"
    },
    "language_info": {
      "name": "python"
    }
  },
  "cells": [
    {
      "cell_type": "markdown",
      "metadata": {
        "id": "view-in-github",
        "colab_type": "text"
      },
      "source": [
        "<a href=\"https://colab.research.google.com/github/cgarcia-UCO/AgentSurvival/blob/main/AgentSurvival.ipynb\" target=\"_parent\"><img src=\"https://colab.research.google.com/assets/colab-badge.svg\" alt=\"Open In Colab\"/></a>"
      ]
    },
    {
      "cell_type": "markdown",
      "metadata": {
        "id": "bxMZr8GbjuEV"
      },
      "source": [
        "#Carga \"rudimentaria\" de la biblioteca"
      ]
    },
    {
      "cell_type": "code",
      "metadata": {
        "colab": {
          "base_uri": "https://localhost:8080/"
        },
        "id": "zeZ8Edq_iptX",
        "outputId": "ba8338ce-e18a-4025-d206-8e8470827f05"
      },
      "source": [
        "!wget 'https://github.com/cgarcia-UCO/AgentSurvival/raw/main/v002/Agent.py'\n",
        "%run Agent.py\n",
        "def f():\n",
        "  pass\n",
        "a = create_agent(f)"
      ],
      "execution_count": null,
      "outputs": [
        {
          "output_type": "stream",
          "name": "stdout",
          "text": [
            "--2021-10-04 13:46:26--  https://github.com/cgarcia-UCO/AgentSurvival/raw/main/v002/Agent.py\n",
            "Resolving github.com (github.com)... 140.82.112.3\n",
            "Connecting to github.com (github.com)|140.82.112.3|:443... connected.\n",
            "HTTP request sent, awaiting response... 302 Found\n",
            "Location: https://raw.githubusercontent.com/cgarcia-UCO/AgentSurvival/main/v002/Agent.py [following]\n",
            "--2021-10-04 13:46:26--  https://raw.githubusercontent.com/cgarcia-UCO/AgentSurvival/main/v002/Agent.py\n",
            "Resolving raw.githubusercontent.com (raw.githubusercontent.com)... 185.199.108.133, 185.199.109.133, 185.199.110.133, ...\n",
            "Connecting to raw.githubusercontent.com (raw.githubusercontent.com)|185.199.108.133|:443... connected.\n",
            "HTTP request sent, awaiting response... 200 OK\n",
            "Length: 2522 (2.5K) [text/plain]\n",
            "Saving to: ‘Agent.py.3’\n",
            "\n",
            "\rAgent.py.3            0%[                    ]       0  --.-KB/s               \rAgent.py.3          100%[===================>]   2.46K  --.-KB/s    in 0s      \n",
            "\n",
            "2021-10-04 13:46:26 (47.7 MB/s) - ‘Agent.py.3’ saved [2522/2522]\n",
            "\n"
          ]
        }
      ]
    },
    {
      "cell_type": "code",
      "metadata": {
        "id": "iMI2lE40pVmL"
      },
      "source": [
        "import time\n",
        "\n",
        "from v002 import *\n",
        "from v002.Agent import create_agent\n",
        "\n",
        "\n",
        "def test_xAgents(x):\n",
        "\n",
        "\n",
        "\n",
        "    '''\n",
        "    Tu agente, en las invocaciones al método move debiera:\n",
        "    1. leer los mensajes recibidos con self._whats_here_function() (es opcional).\n",
        "    Recibirás una lista de diccionarios (y los mensajes se eliminarán de tu buzón). Cada diccionario es un mensaje recibido.\n",
        "    Tendra un campo 'type' y un campo 'Description'. Te recomiendo que al principio los imprimas en la consola y los leas,\n",
        "    y posteriormente realices acciones dependiendo del tipo de mensaje, si es el caso,\n",
        "    (he imprimas en consola sólo aquellos con un tipo que aún no conozcas).\n",
        "\n",
        "    2. también debiera ver lo que hay en la casilla en la que se encuentra con self._whats_here_function() (es opcional).\n",
        "    Recibirás una lista de diccionarios (y los mensajes se eliminarán de tu buzón). Cada diccionario te informa de lo\n",
        "    encontrado, por lo que te recomiendo que al principio los imprimas en la consola y leas los mensajes, y posteriormente\n",
        "    realices acciones dependiendo del tipo de objeto encontrado (he imprimas en consola aquellos con un tipo que aún no conozcas).\n",
        "\n",
        "    3. Y debiera ejecutar las acciones que considere oportunas con las funciones\n",
        "    - self.turn_right()\n",
        "    - self.turn_left()\n",
        "    - self.move_forward()\n",
        "    - O alguna otra relacionada con algún objeto que hayas encontrado.\n",
        "    Ten en cuenta que algunas acciones consumen movimientos por turno, y el número de movimientos por turno está limitado.\n",
        "    Una vez sobrepasado, el resto de movimientos se descartarán. Recibirás mensajes al respecto en tu buzón.\n",
        "    '''\n",
        "\n",
        "    '''\n",
        "    Hay dos formas de crear agentes. Una es creando una subclase de Agente, en el que tienes que mantener el __init__ como \n",
        "    en el siguiente ejemplo, y además debes definir el método move().\n",
        "    \n",
        "    Otra es definiendo una función cualquiera, y llamando a la función create_agent, del módulo Agent,\n",
        "    la cual crea una clase con una función move que llama a la función que tú has definido. Esta segunda es la leche,\n",
        "    pues no necesita que copies el __init__ (no estoy seguro de si realmente es necesario), ni que definas una clase\n",
        "    '''\n",
        "\n",
        "    def move_randomly(self):\n",
        "        messages = self._read_messages_function()\n",
        "        if len(messages) > 0:\n",
        "\n",
        "            for i in messages:\n",
        "                if i['type'] not in ['too slow', 'passing time', 'consuming move']:\n",
        "                    print(i)\n",
        "\n",
        "        whats_here = self._whats_here_function()\n",
        "        objects = whats_here['objects']\n",
        "        walls = whats_here['walls']\n",
        "        for i in objects:\n",
        "            if i['type'] == 'food type 1':\n",
        "                i['eat_function'](self)\n",
        "                # print(\"I eat something!!\")\n",
        "\n",
        "        options = [i for i in walls if (not walls[i]) and (i != 'back')]\n",
        "\n",
        "        if len(options) <= 0:\n",
        "            choice = 'back'\n",
        "        else:\n",
        "            choice = np.random.choice(options)\n",
        "\n",
        "        if choice == 'right':\n",
        "            self.turn_right()\n",
        "            self.move_forward()\n",
        "        elif choice == 'left':\n",
        "            self.turn_left()\n",
        "            self.move_forward()\n",
        "        elif choice == 'front':\n",
        "            self.move_forward()\n",
        "        else:\n",
        "            self.turn_left()\n",
        "            self.turn_left()\n",
        "            self.move_forward()\n",
        "\n",
        "\n",
        "\n",
        "\n",
        "\n",
        "    lb1 = Enviroment_with_agents(20, max_moves_per_turn=3, no_adjacents_in_cluster=False, show_construction=False,\n",
        "                                 entry_at_border=False, treasure_at_border=False)\n",
        "\n",
        "    for i in range(x):\n",
        "        lb1.create_agent('yo' + str(i+1), create_agent(move_randomly))# MyAgent) # TODO Llevar el create_agent a dentro de la función del laberinto\n",
        "\n",
        "    lb1.run(0.1)\n",
        "\n",
        "\n",
        "\n",
        "\n",
        "if __name__ == '__main__':\n",
        "        test_xAgents(10)\n"
      ],
      "execution_count": null,
      "outputs": []
    }
  ]
}
